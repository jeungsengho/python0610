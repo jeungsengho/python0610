{
  "nbformat": 4,
  "nbformat_minor": 0,
  "metadata": {
    "colab": {
      "name": "6_ 스크레이핑.ipynb",
      "provenance": [],
      "authorship_tag": "ABX9TyMqQJvdMym1hGPryktLTANW",
      "include_colab_link": true
    },
    "kernelspec": {
      "name": "python3",
      "display_name": "Python 3"
    },
    "language_info": {
      "name": "python"
    }
  },
  "cells": [
    {
      "cell_type": "markdown",
      "metadata": {
        "id": "view-in-github",
        "colab_type": "text"
      },
      "source": [
        "<a href=\"https://colab.research.google.com/github/jeungsengho/python0610/blob/main/6__%EC%8A%A4%ED%81%AC%EB%A0%88%EC%9D%B4%ED%95%91.ipynb\" target=\"_parent\"><img src=\"https://colab.research.google.com/assets/colab-badge.svg\" alt=\"Open In Colab\"/></a>"
      ]
    },
    {
      "cell_type": "markdown",
      "source": [
        "# **1. 스크레이핑(Scraping)**"
      ],
      "metadata": {
        "id": "xnjGtyeqnCd8"
      }
    },
    {
      "cell_type": "markdown",
      "source": [
        "* 크롤링(Crawling): 인터넷의 데이터를 활용하기 위해 정보들을 분석하고 활용할 수 있게 수집하는 행위\n",
        "* 크롤링과 같은 개념이지만 데이터를 추출해서 가공하는 최종 목표"
      ],
      "metadata": {
        "id": "s8QbwAEirwlL"
      }
    },
    {
      "cell_type": "markdown",
      "source": [
        "# **2. 크롤링**"
      ],
      "metadata": {
        "id": "1QDwIMx4sJsS"
      }
    },
    {
      "cell_type": "markdown",
      "source": [
        "### **2-1. basicenglishspeaking.com**\n"
      ],
      "metadata": {
        "id": "jS7dxVTjsnjv"
      }
    },
    {
      "cell_type": "code",
      "source": [
        "import requests # 서버에 접속해서 html 문서를 가져오는 역할 (요청 -> 응답)\n",
        "from bs4 import BeautifulSoup # html 문서를 해석하는 역할 (파싱)"
      ],
      "metadata": {
        "id": "jv38KlmCt0zH"
      },
      "execution_count": 1,
      "outputs": []
    },
    {
      "cell_type": "code",
      "source": [
        "site = 'https://basicenglishspeaking.com/daily-english-conversation-topics/'\n",
        "request = requests.get(site)\n",
        "print(request)  # <Response [200]> 정상적인 접속\n",
        "# print(request.text) # html\n",
        "html = request.text"
      ],
      "metadata": {
        "colab": {
          "base_uri": "https://localhost:8080/"
        },
        "id": "znEtKGVBuhXm",
        "outputId": "7e97eb47-b79e-4401-bb85-a9a79485bff2"
      },
      "execution_count": 2,
      "outputs": [
        {
          "output_type": "stream",
          "name": "stdout",
          "text": [
            "<Response [200]>\n"
          ]
        }
      ]
    },
    {
      "cell_type": "code",
      "source": [
        "soup = BeautifulSoup(html)"
      ],
      "metadata": {
        "id": "YgLNu8ADu8NJ"
      },
      "execution_count": 3,
      "outputs": []
    },
    {
      "cell_type": "code",
      "source": [
        "divs = soup.findAll('div', {'class':'thrv-columns'})\n",
        "print(divs)"
      ],
      "metadata": {
        "colab": {
          "base_uri": "https://localhost:8080/"
        },
        "id": "JzZpsdYUwQ_P",
        "outputId": "e8afd4a1-8df1-463c-9d97-e6154bb9e39f"
      },
      "execution_count": 4,
      "outputs": [
        {
          "output_type": "stream",
          "name": "stdout",
          "text": [
            "[<div class=\"thrv_wrapper thrv-columns\" style=\"--tcb-col-el-width:792;\"><div class=\"tcb-flex-row tcb--cols--3\"><div class=\"tcb-flex-col\"><div class=\"tcb-col\"><div class=\"thrv_wrapper thrv_text_element\"><p>1. <a class=\"tve-froala\" href=\"https://basicenglishspeaking.com/family/\" style=\"outline: none;\">Family</a><br/>2. <a class=\"tve-froala\" href=\"https://basicenglishspeaking.com/restaurant/\" style=\"outline: none;\">Restaurant</a><br/>3. <a href=\"https://basicenglishspeaking.com/books/\">Books</a><br/>4. <a href=\"https://basicenglishspeaking.com/travel/\">Travel</a><br/>5. <a href=\"https://basicenglishspeaking.com/website/\">Website</a><br/>6. <a href=\"https://basicenglishspeaking.com/accident/\">Accident</a><br/>7. <a class=\"tve-froala\" href=\"https://basicenglishspeaking.com/childhood-memory/\" style=\"outline: none;\">Childhood memory</a><br/>8. <a class=\"tve-froala\" href=\"https://basicenglishspeaking.com/favorite-rooms/\" style=\"outline: none;\">Favorite rooms</a><br/>9. <a href=\"https://basicenglishspeaking.com/presents/\">Presents</a><br/>10. <a class=\"tve-froala\" href=\"https://basicenglishspeaking.com/historical-place/\" style=\"outline: none;\">Historical place</a><br/>11. <a class=\"tve-froala\" href=\"https://basicenglishspeaking.com/newspaper-magazine/\" style=\"outline: none;\">Newspaper/ Magazine</a><br/>12. <a href=\"https://basicenglishspeaking.com/an-event/\">A memorable event</a><br/>13. <a href=\"https://basicenglishspeaking.com/a-subject/\">A favorite subject</a><br/>14. <a href=\"https://basicenglishspeaking.com/a-museum/\">A museum</a><br/>15. <a href=\"https://basicenglishspeaking.com/a-movie/\">A favorite movie</a><br/>16. <a href=\"https://basicenglishspeaking.com/a-foreign-country/\">A foreign country</a><br/>17. <a href=\"https://basicenglishspeaking.com/parties/\">Parties</a><br/>18. <a href=\"https://basicenglishspeaking.com/a-teacher/\">A teacher</a><br/>19. <a href=\"https://basicenglishspeaking.com/a-friend/\">A friend</a><br/>20. <a href=\"https://basicenglishspeaking.com/a-hotel/\">A hotel</a><br/>21. <a href=\"https://basicenglishspeaking.com/a-letter/\">A letter</a><br/>22. <a href=\"https://basicenglishspeaking.com/hobbies/\">Hobbies</a><br/>23. <a href=\"https://basicenglishspeaking.com/music/\">Music</a><br/>24. <a href=\"https://basicenglishspeaking.com/shopping/\">Shopping</a><br/>25. <a href=\"https://basicenglishspeaking.com/holiday/\">Holiday</a></p></div></div></div><div class=\"tcb-flex-col\"><div class=\"tcb-col\"><div class=\"thrv_wrapper thrv_text_element\"><p>26. <a class=\"tve-froala\" href=\"https://basicenglishspeaking.com/animals/\" style=\"outline: none;\">Animals</a><br/>27. <a class=\"tve-froala\" href=\"https://basicenglishspeaking.com/a-practical-skill/\" style=\"outline: none;\">A practical skill</a><br/>28. <a href=\"https://basicenglishspeaking.com/sports/\">Sport</a><br/>29. <a href=\"https://basicenglishspeaking.com/a-school/\">A School</a><br/>30. <a href=\"https://basicenglishspeaking.com/festival/\">Festival</a><br/>31. <a href=\"https://basicenglishspeaking.com/food/\">Food</a><br/>32. <a href=\"https://basicenglishspeaking.com/household-appliance/\">Household appliance</a><br/>33. <a href=\"https://basicenglishspeaking.com/a-music-band/\">A music band</a><br/>34. <a href=\"https://basicenglishspeaking.com/weather/\">Weather</a><br/>35. <a href=\"https://basicenglishspeaking.com/neighbor/\">Neighbor</a><br/>36. <a href=\"https://basicenglishspeaking.com/natural-scenery/\">Natural scenery</a><br/>37. <a href=\"https://basicenglishspeaking.com/outdoor-activities/\">Outdoor activities</a><br/>38. <a href=\"https://basicenglishspeaking.com/law/\">Law</a><br/>39. <a href=\"https://basicenglishspeaking.com/pollution/\">Pollution</a><br/>40. <a href=\"https://basicenglishspeaking.com/traffic-jam/\">Traffic jam</a><br/>41. <a href=\"https://basicenglishspeaking.com/tv-program/\">TV program</a><br/>42. <a href=\"https://basicenglishspeaking.com/architecture-building/\">Architect/ Building</a><br/>43. <a href=\"https://basicenglishspeaking.com/electronic-media/\">Electronic Media</a><br/>44. <a href=\"https://basicenglishspeaking.com/job-career/\">Job/ Career</a><br/>45. <a href=\"https://basicenglishspeaking.com/competition-contest/\">Competition/ contest</a><br/>46. <a href=\"https://basicenglishspeaking.com/a-garden/\">A garden</a><br/>47. <a href=\"https://basicenglishspeaking.com/hometown/\">Hometown</a><br/>48. <a href=\"https://basicenglishspeaking.com/clothing/\">Clothing</a><br/>49. <a href=\"https://basicenglishspeaking.com/an-advertisement/\">Advertisement</a><br/>50. <a href=\"https://basicenglishspeaking.com/a-project/\">A project</a></p></div></div></div><div class=\"tcb-flex-col\"><div class=\"tcb-col\"><div class=\"thrv_wrapper thrv_text_element\"><p>51. <a href=\"https://basicenglishspeaking.com/a-wedding/\">A wedding</a><br/>52. <a href=\"https://basicenglishspeaking.com/a-coffee-shop/\">A Coffee shop</a><br/>53. <a href=\"https://basicenglishspeaking.com/culture/\">Culture</a><br/>54. <a href=\"https://basicenglishspeaking.com/transport/\">Transport</a><br/>55. <a href=\"https://basicenglishspeaking.com/politician/\">Politician</a><br/>56. <a href=\"https://basicenglishspeaking.com/communication/\">Communication</a><br/>57. <a href=\"https://basicenglishspeaking.com/business/\">Business</a><br/>58. <a href=\"https://basicenglishspeaking.com/computer/\">Computer</a><br/>59. <a href=\"https://basicenglishspeaking.com/exercise/\">Exercise</a><br/>60. <a href=\"https://basicenglishspeaking.com/goal-ambition/\">Goal/ ambition</a><br/>61. <a href=\"https://basicenglishspeaking.com/art/\">Art</a><br/>62. <a href=\"https://basicenglishspeaking.com/fashion/\">Fashion</a><br/>63. <a href=\"https://basicenglishspeaking.com/jewelry/\">Jewelry</a><br/>64. <a href=\"https://basicenglishspeaking.com/cosmetic/\">Cosmetic</a><br/>65. <a href=\"https://basicenglishspeaking.com/indoor-game/\">Indoor Game</a><br/>66. <a href=\"https://basicenglishspeaking.com/phone-conversation/\">Phone conversation</a><br/>67. <a href=\"https://basicenglishspeaking.com/learning-second-language/\">Learning A Second language</a><br/>68. <a href=\"https://basicenglishspeaking.com/a-creative-person/\">A Creative Person</a><br/>69. <a href=\"https://basicenglishspeaking.com/a-celebrity/\">A celebrity</a><br/>70. <a href=\"https://basicenglishspeaking.com/a-health-problem/\">A Health Problem</a><br/>71. <a href=\"https://basicenglishspeaking.com/technological-advancements/\">Technological advancements</a><br/>72. <a href=\"https://basicenglishspeaking.com/a-landmark/\">A Landmark</a><br/>73. <a href=\"https://basicenglishspeaking.com/handcraft-items/\">Handcraft Items</a><br/>74. <a href=\"https://basicenglishspeaking.com/plastic-surgery/\">Plastic Surgery</a><br/>75. <a href=\"https://basicenglishspeaking.com/success/\">Success</a></p></div></div></div></div></div>]\n"
          ]
        }
      ]
    },
    {
      "cell_type": "code",
      "source": [
        "subject = []\n",
        "\n",
        "for div in divs:\n",
        "  links = div.findAll('a')\n",
        "  # print(links)\n",
        "  for link in links:\n",
        "   # print(link.text)\n",
        "   subject.append(link.text)"
      ],
      "metadata": {
        "id": "AngcNdVtyTyH"
      },
      "execution_count": 5,
      "outputs": []
    },
    {
      "cell_type": "code",
      "source": [
        "print('총', len(subject), '개의 주제를 찾았습니다.')\n",
        "for i in range(len(subject)):\n",
        "  print('{0:2d}. {1:s}'.format(i+1, subject[i]))"
      ],
      "metadata": {
        "colab": {
          "base_uri": "https://localhost:8080/"
        },
        "id": "EO50rZPzzC3b",
        "outputId": "7406eb70-8784-4caa-f4f3-510109ed5c4d"
      },
      "execution_count": 6,
      "outputs": [
        {
          "output_type": "stream",
          "name": "stdout",
          "text": [
            "총 75 개의 주제를 찾았습니다.\n",
            " 1. Family\n",
            " 2. Restaurant\n",
            " 3. Books\n",
            " 4. Travel\n",
            " 5. Website\n",
            " 6. Accident\n",
            " 7. Childhood memory\n",
            " 8. Favorite rooms\n",
            " 9. Presents\n",
            "10. Historical place\n",
            "11. Newspaper/ Magazine\n",
            "12. A memorable event\n",
            "13. A favorite subject\n",
            "14. A museum\n",
            "15. A favorite movie\n",
            "16. A foreign country\n",
            "17. Parties\n",
            "18. A teacher\n",
            "19. A friend\n",
            "20. A hotel\n",
            "21. A letter\n",
            "22. Hobbies\n",
            "23. Music\n",
            "24. Shopping\n",
            "25. Holiday\n",
            "26. Animals\n",
            "27. A practical skill\n",
            "28. Sport\n",
            "29. A School\n",
            "30. Festival\n",
            "31. Food\n",
            "32. Household appliance\n",
            "33. A music band\n",
            "34. Weather\n",
            "35. Neighbor\n",
            "36. Natural scenery\n",
            "37. Outdoor activities\n",
            "38. Law\n",
            "39. Pollution\n",
            "40. Traffic jam\n",
            "41. TV program\n",
            "42. Architect/ Building\n",
            "43. Electronic Media\n",
            "44. Job/ Career\n",
            "45. Competition/ contest\n",
            "46. A garden\n",
            "47. Hometown\n",
            "48. Clothing\n",
            "49. Advertisement\n",
            "50. A project\n",
            "51. A wedding\n",
            "52. A Coffee shop\n",
            "53. Culture\n",
            "54. Transport\n",
            "55. Politician\n",
            "56. Communication\n",
            "57. Business\n",
            "58. Computer\n",
            "59. Exercise\n",
            "60. Goal/ ambition\n",
            "61. Art\n",
            "62. Fashion\n",
            "63. Jewelry\n",
            "64. Cosmetic\n",
            "65. Indoor Game\n",
            "66. Phone conversation\n",
            "67. Learning A Second language\n",
            "68. A Creative Person\n",
            "69. A celebrity\n",
            "70. A Health Problem\n",
            "71. Technological advancements\n",
            "72. A Landmark\n",
            "73. Handcraft Items\n",
            "74. Plastic Surgery\n",
            "75. Success\n"
          ]
        }
      ]
    },
    {
      "cell_type": "markdown",
      "source": [
        "### **2-2. 다음 뉴스기사**"
      ],
      "metadata": {
        "id": "dTvTMsyqzq35"
      }
    },
    {
      "cell_type": "code",
      "source": [
        "# https://movie.v.daum.net/v/20220625085027862\n",
        "\n",
        "def daum_news_title(news_id):\n",
        "  # url = 'https://movie.v.daum.net/v/{}'+ news_id\n",
        "  url = 'https://movie.v.daum.net/v/{}'.format(news_id)\n",
        "  request = requests.get(url)\n",
        "  # print(request)\n",
        "  soup = BeautifulSoup(request.text)\n",
        "  # title = soup.findAll('h3', {'class':'tit_view'})\n",
        "  # title = soup.find('h3', {'class':'tit_view'})\n",
        "  title = soup.select_one('h3.tit_view')\n",
        "  if title:\n",
        "    return title.text.strip()\n",
        "  return ''  \n"
      ],
      "metadata": {
        "id": "B7wDZgje4a2s"
      },
      "execution_count": 7,
      "outputs": []
    },
    {
      "cell_type": "code",
      "source": [
        "daum_news_title('20220625085027862')"
      ],
      "metadata": {
        "colab": {
          "base_uri": "https://localhost:8080/",
          "height": 35
        },
        "id": "gaG-A56B5Y8Y",
        "outputId": "22d6e80a-1107-456f-df8d-29c95e4d61e5"
      },
      "execution_count": 8,
      "outputs": [
        {
          "output_type": "execute_result",
          "data": {
            "text/plain": [
              "'팬데믹 후 첫 천만..마동석 펀치로 심폐소생한 극장가 [상반기 결산-영화]'"
            ],
            "application/vnd.google.colaboratory.intrinsic+json": {
              "type": "string"
            }
          },
          "metadata": {},
          "execution_count": 8
        }
      ]
    },
    {
      "cell_type": "code",
      "source": [
        "daum_news_title('20220625093301536')"
      ],
      "metadata": {
        "colab": {
          "base_uri": "https://localhost:8080/",
          "height": 35
        },
        "id": "HzCBgB-E5c-Q",
        "outputId": "f4f36d4c-9ae1-4bf0-df0c-1e64e0f9007b"
      },
      "execution_count": 9,
      "outputs": [
        {
          "output_type": "execute_result",
          "data": {
            "text/plain": [
              "'누구라도 외면하고 싶은 금기에 도전하는 이 영화'"
            ],
            "application/vnd.google.colaboratory.intrinsic+json": {
              "type": "string"
            }
          },
          "metadata": {},
          "execution_count": 9
        }
      ]
    },
    {
      "cell_type": "code",
      "source": [
        "daum_news_title('20220627174244810')"
      ],
      "metadata": {
        "colab": {
          "base_uri": "https://localhost:8080/",
          "height": 35
        },
        "id": "oQbzdnRP68O6",
        "outputId": "60f35d28-372c-4dd0-8294-75b8ef24873d"
      },
      "execution_count": 10,
      "outputs": [
        {
          "output_type": "execute_result",
          "data": {
            "text/plain": [
              "'수지에게 결혼·유학 제안했던 그 남자..허형규 \"\\'안나\\' 참여 영광\"'"
            ],
            "application/vnd.google.colaboratory.intrinsic+json": {
              "type": "string"
            }
          },
          "metadata": {},
          "execution_count": 10
        }
      ]
    },
    {
      "cell_type": "markdown",
      "source": [
        "### **2-3. 벅스뮤직 차트**"
      ],
      "metadata": {
        "id": "Tw-bFjAA7ZzT"
      }
    },
    {
      "cell_type": "code",
      "source": [
        "request = requests.get('https://music.bugs.co.kr/chart')\n",
        "html = request.text\n",
        "soup = BeautifulSoup(html)\n",
        "\n",
        "titles = soup.findAll('p',{'class':'title'})\n",
        "# print(titles)\n",
        "\n",
        "artists = soup.findAll('p',{'class':'artist'})\n",
        "# print(artists)"
      ],
      "metadata": {
        "id": "P3ZHJPNX79IC"
      },
      "execution_count": 11,
      "outputs": []
    },
    {
      "cell_type": "code",
      "source": [
        "for i in range(len(titles)):\n",
        "  title = titles[i].text.strip()\n",
        "  artist = artists[i].text.strip().split('\\n')[0] # split('\\n') -> '\\n' 을 기준으로 나누어서 앞에 0번째만 저장\n",
        "  data = '{0:3d}위 {1} - {2}'.format(i+1, artist, title)\n",
        "  print(data)"
      ],
      "metadata": {
        "colab": {
          "base_uri": "https://localhost:8080/"
        },
        "id": "_P1JutVq8taU",
        "outputId": "83312d10-df05-4304-ba1b-2993789d46fd"
      },
      "execution_count": 12,
      "outputs": [
        {
          "output_type": "stream",
          "name": "stdout",
          "text": [
            "  1위 프로미스나인 - Stay This Way\n",
            "  2위 이민혁 (HUTA) - BOOM\n",
            "  3위 이민혁 (HUTA) - Real Game (Like Messi)\n",
            "  4위 이민혁 (HUTA) - 위험해\n",
            "  5위 이민혁 (HUTA) - 우리 함께 걸어요\n",
            "  6위 이민혁 (HUTA) - Red Wine\n",
            "  7위 프로미스나인 - Cheese\n",
            "  8위 프로미스나인 - Up And\n",
            "  9위 프로미스나인 - Blind Letter\n",
            " 10위 프로미스나인 - Rewind\n",
            " 11위 선미 - 열이올라요 (Heart Burn)\n",
            " 12위 나연 (TWICE) - POP!\n",
            " 13위 IVE (아이브) - LOVE DIVE\n",
            " 14위 Charlie Puth(찰리 푸스) - Left and Right (Feat. Jung Kook of BTS)\n",
            " 15위 (여자)아이들 - TOMBOY\n",
            " 16위 이무진 - 참고사항\n",
            " 17위 LE SSERAFIM (르세라핌) - FEARLESS\n",
            " 18위 멜로망스(MeloMance) - 사랑인가 봐\n",
            " 19위 싸이 (PSY) - That That (prod. & feat. SUGA of BTS)\n",
            " 20위 BIG Naughty (서동현) - 정이라고 하자 (Feat. 10CM)\n",
            " 21위 aespa - Life′s Too Short (English Ver.)\n",
            " 22위 IVE (아이브) - ELEVEN\n",
            " 23위 다비치 - 팡파레\n",
            " 24위 BE'O (비오) - LOVE me\n",
            " 25위 선미 - 풋사랑 (Childhood)\n",
            " 26위 방탄소년단 - Yet To Come\n",
            " 27위 Charlie Puth(찰리 푸스) - That's Hilarious\n",
            " 28위 Red Velvet (레드벨벳) - Feel My Rhythm\n",
            " 29위 영준 - 혼잣말이 많아졌어 (Cause You) (Prod. 강타 (KANGTA))\n",
            " 30위 케이시 - 늦은 밤 헤어지긴 너무 아쉬워\n",
            " 31위 경서 - 나의 X에게\n",
            " 32위 aespa - 도깨비불 (Illusion)\n",
            " 33위 폴킴(Paul Kim) - One More Time\n",
            " 34위 조유리 - 러브 쉿!\n",
            " 35위 (여자)아이들 - MY BAG\n",
            " 36위 BIGBANG (빅뱅) - 봄여름가을겨울 (Still Life)\n",
            " 37위 이무진 - 신호등\n",
            " 38위 태연 (TAEYEON) - INVU\n",
            " 39위 The Kid LAROI - STAY\n",
            " 40위 세븐틴(SEVENTEEN) - HOT\n",
            " 41위 주시크 (Joosiq) - 너를 생각해\n",
            " 42위 YENA (최예나) - SMILEY (Feat. BIBI)\n",
            " 43위 주시크 (Joosiq) - 아무래도 난\n",
            " 44위 경서예지 - 다정히 내 이름을 부르면\n",
            " 45위 성시경 - 너의 모든 순간\n",
            " 46위 김민석 (멜로망스) - 취중고백\n",
            " 47위 박재범 - GANADARA (Feat. 아이유)\n",
            " 48위 아이유(IU) - 드라마\n",
            " 49위 헤이즈(Heize) - 마지막 너의 인사\n",
            " 50위 10CM - 봄 to 러브\n",
            " 51위 aespa - Next Level\n",
            " 52위 WSG워너비 - 어마어마해\n",
            " 53위 볼빨간사춘기 - Love story\n",
            " 54위 BIG Naughty (서동현) - 낭만교향곡 (Feat. CHANGMO, 박재범)\n",
            " 55위 이민혁 (HUTA) - 사랑일까요 (Duet. 이창섭 of 비투비)\n",
            " 56위 멜로망스(MeloMance) - Happy Song\n",
            " 57위 미연 ((여자)아이들) - Drive\n",
            " 58위 MSG워너비(M.O.M) - 듣고 싶을까\n",
            " 59위 (여자)아이들 - 말리지 마\n",
            " 60위 태연 (TAEYEON) - Weekend\n",
            " 61위 NCT DREAM - Beatbox\n",
            " 62위 볼빨간사춘기 - Seoul\n",
            " 63위 아이유(IU) - strawberry moon\n",
            " 64위 싸이 (PSY) - 감동이야 (feat. 성시경)\n",
            " 65위 방탄소년단 - Dynamite\n",
            " 66위 Justin Bieber(저스틴 비버) - Off My Face\n",
            " 67위 임영웅 - 우리들의 블루스\n",
            " 68위 제시(Jessi) - ZOOM\n",
            " 69위 백예린 (Yerin Baek) - 물고기\n",
            " 70위 Lauv(라우브) - All 4 Nothing (I'm So In Love)\n",
            " 71위 이달의 소녀 - Flip That\n",
            " 72위 Charlie Puth(찰리 푸스) - Light Switch\n",
            " 73위 스웨덴세탁소 - 모래성\n",
            " 74위 멜로망스(MeloMance) - 초대\n",
            " 75위 아이유(IU) - Blueming\n",
            " 76위 아이유(IU) - Celebrity\n",
            " 77위 잔나비 - 초록을거머쥔우리는\n",
            " 78위 싸이 (PSY) - Celeb\n",
            " 79위 아이유(IU) - 라일락\n",
            " 80위 폴킴(Paul Kim) - 모든 날, 모든 순간 (Every day, Every Moment)\n",
            " 81위 Harry Styles(해리 스타일스) - As It Was\n",
            " 82위 임재현 - 고백하는 취한밤에 (Prod. 2soo)\n",
            " 83위 방탄소년단 - Butter\n",
            " 84위 sokodomo - 회전목마 (Feat. Zion.T, 원슈타인) (Prod. Slom)\n",
            " 85위 STAYC(스테이씨) - RUN2U\n",
            " 86위 임영웅 - 사랑은 늘 도망가\n",
            " 87위 빌리어코스티 - 그래볼게\n",
            " 88위 왁스(Wax) - 실수로라도\n",
            " 89위 WSG워너비 조별경연 (대청봉) - YOU AND I\n",
            " 90위 주호 - 내가 아니라도\n",
            " 91위 세븐틴(SEVENTEEN) - Darl+ing\n",
            " 92위 윤하(Younha/ユンナ) - 사건의 지평선\n",
            " 93위 쿠기 (Coogie) - Alone (Feat. 이하이)\n",
            " 94위 자우림(Jaurim) - 스물다섯, 스물하나\n",
            " 95위 방탄소년단 - Permission to Dance\n",
            " 96위 지민 - With you\n",
            " 97위 다비치 - 기억해 줘요\n",
            " 98위 Kep1er (케플러) - Up!\n",
            " 99위 나연 (TWICE) - NO PROBLEM (Feat. 필릭스 of Stray Kids)\n",
            "100위 Kelly Clarkson(켈리 클락슨) - Stronger (What Doesn't Kill You)\n"
          ]
        }
      ]
    },
    {
      "cell_type": "markdown",
      "source": [
        "### **2-4. 멜론 차트**"
      ],
      "metadata": {
        "id": "u381Agld-Oz6"
      }
    },
    {
      "cell_type": "code",
      "source": [
        "url = 'https://www.melon.com/chart/index.htm'\n",
        "request = requests.get(url)\n",
        "print(request)"
      ],
      "metadata": {
        "colab": {
          "base_uri": "https://localhost:8080/"
        },
        "id": "K_tIjPbM_WSC",
        "outputId": "b9ae5f58-49f1-4fa2-df24-afc9d1fc45f4"
      },
      "execution_count": 13,
      "outputs": [
        {
          "output_type": "stream",
          "name": "stdout",
          "text": [
            "<Response [406]>\n"
          ]
        }
      ]
    },
    {
      "cell_type": "code",
      "source": [
        "# User-Agent: Mozilla/5.0 (Windows NT 10.0; Win64; x64) AppleWebKit/537.36 (KHTML, like Gecko) Chrome/103.0.0.0 Safari/537.36\n",
        "header = {'User-Agent':'Mozilla/5.0 (Windows NT 10.0; Win64; x64)'}\n",
        "url = 'https://www.melon.com/chart/index.htm'\n",
        "request = requests.get(url, headers=header)\n",
        "print(request)"
      ],
      "metadata": {
        "colab": {
          "base_uri": "https://localhost:8080/"
        },
        "id": "3fEAecRC_i5y",
        "outputId": "f1702cc0-3e3a-4306-b831-ff6cd2898afa"
      },
      "execution_count": 14,
      "outputs": [
        {
          "output_type": "stream",
          "name": "stdout",
          "text": [
            "<Response [200]>\n"
          ]
        }
      ]
    },
    {
      "cell_type": "code",
      "source": [
        "html = request.text\n",
        "soup = BeautifulSoup(html)\n",
        "\n",
        "titles = soup.findAll('div',{'class':'rank01'})\n",
        "# print(titles)\n",
        "\n",
        "artists = soup.findAll('span',{'class':'checkEllipsis'})\n",
        "print(artists)"
      ],
      "metadata": {
        "colab": {
          "base_uri": "https://localhost:8080/"
        },
        "id": "7P03PxnOCQcy",
        "outputId": "4820863a-95e8-4f71-f514-f12775278c92"
      },
      "execution_count": 15,
      "outputs": [
        {
          "output_type": "stream",
          "name": "stdout",
          "text": [
            "[<span class=\"checkEllipsis\" style=\"display:none\"><a href=\"javascript:melon.link.goArtistDetail('3055146');\" title=\"IVE (아이브) - 페이지 이동\">IVE (아이브)</a></span>, <span class=\"checkEllipsis\" style=\"display:none\"><a href=\"javascript:melon.link.goArtistDetail('2137482');\" title=\"(여자)아이들 - 페이지 이동\">(여자)아이들</a></span>, <span class=\"checkEllipsis\" style=\"display:none\"><a href=\"javascript:melon.link.goArtistDetail('3865');\" title=\"싸이 (PSY) - 페이지 이동\">싸이 (PSY)</a></span>, <span class=\"checkEllipsis\" style=\"display:none\"><a href=\"javascript:melon.link.goArtistDetail('839732');\" title=\"멜로망스 - 페이지 이동\">멜로망스</a></span>, <span class=\"checkEllipsis\" style=\"display:none\"><a href=\"javascript:melon.link.goArtistDetail('2744750');\" title=\"BIG Naughty (서동현) - 페이지 이동\">BIG Naughty (서동현)</a></span>, <span class=\"checkEllipsis\" style=\"display:none\"><a href=\"javascript:melon.link.goArtistDetail('994005');\" title=\"경서 - 페이지 이동\">경서</a></span>, <span class=\"checkEllipsis\" style=\"display:none\"><a href=\"javascript:melon.link.goArtistDetail('994944');\" title=\"임영웅 - 페이지 이동\">임영웅</a></span>, <span class=\"checkEllipsis\" style=\"display:none\"><a href=\"javascript:melon.link.goArtistDetail('994944');\" title=\"임영웅 - 페이지 이동\">임영웅</a></span>, <span class=\"checkEllipsis\" style=\"display:none\"><a href=\"javascript:melon.link.goArtistDetail('198094');\" title=\"BIGBANG (빅뱅) - 페이지 이동\">BIGBANG (빅뱅)</a></span>, <span class=\"checkEllipsis\" style=\"display:none\"><a href=\"javascript:melon.link.goArtistDetail('672375');\" title=\"방탄소년단 - 페이지 이동\">방탄소년단</a></span>, <span class=\"checkEllipsis\" style=\"display:none\"><a href=\"javascript:melon.link.goArtistDetail('2758756');\" title=\"BE'O (비오) - 페이지 이동\">BE'O (비오)</a></span>, <span class=\"checkEllipsis\" style=\"display:none\"><a href=\"javascript:melon.link.goArtistDetail('3092950');\" title=\"LE SSERAFIM (르세라핌) - 페이지 이동\">LE SSERAFIM (르세라핌)</a></span>, <span class=\"checkEllipsis\" style=\"display:none\"><a href=\"javascript:melon.link.goArtistDetail('839736');\" title=\"김민석 (멜로망스) - 페이지 이동\">김민석 (멜로망스)</a></span>, <span class=\"checkEllipsis\" style=\"display:none\"><a href=\"javascript:melon.link.goArtistDetail('994944');\" title=\"임영웅 - 페이지 이동\">임영웅</a></span>, <span class=\"checkEllipsis\" style=\"display:none\"><a href=\"javascript:melon.link.goArtistDetail('780066');\" title=\"Red Velvet (레드벨벳) - 페이지 이동\">Red Velvet (레드벨벳)</a></span>, <span class=\"checkEllipsis\" style=\"display:none\"><a href=\"javascript:melon.link.goArtistDetail('683631');\" title=\"주호 - 페이지 이동\">주호</a></span>, <span class=\"checkEllipsis\" style=\"display:none\"><a href=\"javascript:melon.link.goArtistDetail('3055146');\" title=\"IVE (아이브) - 페이지 이동\">IVE (아이브)</a></span>, <span class=\"checkEllipsis\" style=\"display:none\"><a href=\"javascript:melon.link.goArtistDetail('2138620');\" title=\"이무진 - 페이지 이동\">이무진</a></span>, <span class=\"checkEllipsis\" style=\"display:none\"><a href=\"javascript:melon.link.goArtistDetail('443420');\" title=\"박재범 - 페이지 이동\">박재범</a></span>, <span class=\"checkEllipsis\" style=\"display:none\"><a href=\"javascript:melon.link.goArtistDetail('838654');\" title=\"Charlie Puth - 페이지 이동\">Charlie Puth</a>, <a href=\"javascript:melon.link.goArtistDetail('725987');\" title=\"정국 - 페이지 이동\">정국</a>, <a href=\"javascript:melon.link.goArtistDetail('672375');\" title=\"방탄소년단 - 페이지 이동\">방탄소년단</a></span>, <span class=\"checkEllipsis\" style=\"display:none\"><a href=\"javascript:melon.link.goArtistDetail('2863470');\" title=\"경서예지 - 페이지 이동\">경서예지</a>, <a href=\"javascript:melon.link.goArtistDetail('2739011');\" title=\"전건호 - 페이지 이동\">전건호</a></span>, <span class=\"checkEllipsis\" style=\"display:none\"><a href=\"javascript:melon.link.goArtistDetail('994944');\" title=\"임영웅 - 페이지 이동\">임영웅</a></span>, <span class=\"checkEllipsis\" style=\"display:none\"><a href=\"javascript:melon.link.goArtistDetail('994944');\" title=\"임영웅 - 페이지 이동\">임영웅</a></span>, <span class=\"checkEllipsis\" style=\"display:none\"><a href=\"javascript:melon.link.goArtistDetail('672375');\" title=\"방탄소년단 - 페이지 이동\">방탄소년단</a></span>, <span class=\"checkEllipsis\" style=\"display:none\"><a href=\"javascript:melon.link.goArtistDetail('2880487');\" title=\"주시크 (Joosiq) - 페이지 이동\">주시크 (Joosiq)</a></span>, <span class=\"checkEllipsis\" style=\"display:none\"><a href=\"javascript:melon.link.goArtistDetail('906641');\" title=\"나연 (TWICE) - 페이지 이동\">나연 (TWICE)</a></span>, <span class=\"checkEllipsis\" style=\"display:none\"><a href=\"javascript:melon.link.goArtistDetail('236797');\" title=\"태연 (TAEYEON) - 페이지 이동\">태연 (TAEYEON)</a></span>, <span class=\"checkEllipsis\" style=\"display:none\"><a href=\"javascript:melon.link.goArtistDetail('2137482');\" title=\"(여자)아이들 - 페이지 이동\">(여자)아이들</a></span>, <span class=\"checkEllipsis\" style=\"display:none\"><a href=\"javascript:melon.link.goArtistDetail('994944');\" title=\"임영웅 - 페이지 이동\">임영웅</a></span>, <span class=\"checkEllipsis\" style=\"display:none\"><a href=\"javascript:melon.link.goArtistDetail('672375');\" title=\"방탄소년단 - 페이지 이동\">방탄소년단</a></span>, <span class=\"checkEllipsis\" style=\"display:none\"><a href=\"javascript:melon.link.goArtistDetail('2743730');\" title=\"The Kid LAROI - 페이지 이동\">The Kid LAROI</a>, <a href=\"javascript:melon.link.goArtistDetail('420621');\" title=\"Justin Bieber - 페이지 이동\">Justin Bieber</a></span>, <span class=\"checkEllipsis\" style=\"display:none\"><a href=\"javascript:melon.link.goArtistDetail('838654');\" title=\"Charlie Puth - 페이지 이동\">Charlie Puth</a></span>, <span class=\"checkEllipsis\" style=\"display:none\"><a href=\"javascript:melon.link.goArtistDetail('858125');\" title=\"케이시 (Kassy) - 페이지 이동\">케이시 (Kassy)</a></span>, <span class=\"checkEllipsis\" style=\"display:none\"><a href=\"javascript:melon.link.goArtistDetail('2939212');\" title=\"MSG워너비(M.O.M) - 페이지 이동\">MSG워너비(M.O.M)</a></span>, <span class=\"checkEllipsis\" style=\"display:none\"><a href=\"javascript:melon.link.goArtistDetail('994944');\" title=\"임영웅 - 페이지 이동\">임영웅</a></span>, <span class=\"checkEllipsis\" style=\"display:none\"><a href=\"javascript:melon.link.goArtistDetail('994944');\" title=\"임영웅 - 페이지 이동\">임영웅</a></span>, <span class=\"checkEllipsis\" style=\"display:none\"><a href=\"javascript:melon.link.goArtistDetail('672375');\" title=\"방탄소년단 - 페이지 이동\">방탄소년단</a></span>, <span class=\"checkEllipsis\" style=\"display:none\"><a href=\"javascript:melon.link.goArtistDetail('994944');\" title=\"임영웅 - 페이지 이동\">임영웅</a></span>, <span class=\"checkEllipsis\" style=\"display:none\"><a href=\"javascript:melon.link.goArtistDetail('236797');\" title=\"태연 (TAEYEON) - 페이지 이동\">태연 (TAEYEON)</a></span>, <span class=\"checkEllipsis\" style=\"display:none\"><a href=\"javascript:melon.link.goArtistDetail('994944');\" title=\"임영웅 - 페이지 이동\">임영웅</a></span>, <span class=\"checkEllipsis\" style=\"display:none\"><a href=\"javascript:melon.link.goArtistDetail('2899555');\" title=\"aespa - 페이지 이동\">aespa</a></span>, <span class=\"checkEllipsis\" style=\"display:none\"><a href=\"javascript:melon.link.goArtistDetail('176393');\" title=\"제시 (Jessi) - 페이지 이동\">제시 (Jessi)</a></span>, <span class=\"checkEllipsis\" style=\"display:none\"><a href=\"javascript:melon.link.goArtistDetail('2087273');\" title=\"임재현 - 페이지 이동\">임재현</a></span>, <span class=\"checkEllipsis\" style=\"display:none\"><a href=\"javascript:melon.link.goArtistDetail('994944');\" title=\"임영웅 - 페이지 이동\">임영웅</a></span>, <span class=\"checkEllipsis\" style=\"display:none\"><a href=\"javascript:melon.link.goArtistDetail('3305');\" title=\"성시경 - 페이지 이동\">성시경</a></span>, <span class=\"checkEllipsis\" style=\"display:none\"><a href=\"javascript:melon.link.goArtistDetail('2880487');\" title=\"주시크 (Joosiq) - 페이지 이동\">주시크 (Joosiq)</a></span>, <span class=\"checkEllipsis\" style=\"display:none\"><a href=\"javascript:melon.link.goArtistDetail('2399724');\" title=\"YENA (최예나) - 페이지 이동\">YENA (최예나)</a></span>, <span class=\"checkEllipsis\" style=\"display:none\"><a href=\"javascript:melon.link.goArtistDetail('994944');\" title=\"임영웅 - 페이지 이동\">임영웅</a></span>, <span class=\"checkEllipsis\" style=\"display:none\"><a href=\"javascript:melon.link.goArtistDetail('236815');\" title=\"다비치 - 페이지 이동\">다비치</a></span>, <span class=\"checkEllipsis\" style=\"display:none\"><a href=\"javascript:melon.link.goArtistDetail('994944');\" title=\"임영웅 - 페이지 이동\">임영웅</a></span>, <span class=\"checkEllipsis\" style=\"display:none\"><a href=\"javascript:melon.link.goArtistDetail('2561475');\" title=\"sokodomo - 페이지 이동\">sokodomo</a></span>, <span class=\"checkEllipsis\" style=\"display:none\"><a href=\"javascript:melon.link.goArtistDetail('994944');\" title=\"임영웅 - 페이지 이동\">임영웅</a></span>, <span class=\"checkEllipsis\" style=\"display:none\"><a href=\"javascript:melon.link.goArtistDetail('672375');\" title=\"방탄소년단 - 페이지 이동\">방탄소년단</a></span>, <span class=\"checkEllipsis\" style=\"display:none\"><a href=\"javascript:melon.link.goArtistDetail('861436');\" title=\"세븐틴 - 페이지 이동\">세븐틴</a></span>, <span class=\"checkEllipsis\" style=\"display:none\"><a href=\"javascript:melon.link.goArtistDetail('858125');\" title=\"케이시 (Kassy) - 페이지 이동\">케이시 (Kassy)</a></span>, <span class=\"checkEllipsis\" style=\"display:none\"><a href=\"javascript:melon.link.goArtistDetail('261143');\" title=\"아이유 - 페이지 이동\">아이유</a></span>, <span class=\"checkEllipsis\" style=\"display:none\"><a href=\"javascript:melon.link.goArtistDetail('261143');\" title=\"아이유 - 페이지 이동\">아이유</a></span>, <span class=\"checkEllipsis\" style=\"display:none\"><a href=\"javascript:melon.link.goArtistDetail('2758756');\" title=\"BE'O (비오) - 페이지 이동\">BE'O (비오)</a></span>, <span class=\"checkEllipsis\" style=\"display:none\"><a href=\"javascript:melon.link.goArtistDetail('261143');\" title=\"아이유 - 페이지 이동\">아이유</a></span>, <span class=\"checkEllipsis\" style=\"display:none\"><a href=\"javascript:melon.link.goArtistDetail('785501');\" title=\"디핵 (D-Hack) - 페이지 이동\">디핵 (D-Hack)</a>, <a href=\"javascript:melon.link.goArtistDetail('2750866');\" title=\"PATEKO (파테코) - 페이지 이동\">PATEKO (파테코)</a></span>, <span class=\"checkEllipsis\" style=\"display:none\"><a href=\"javascript:melon.link.goArtistDetail('2744750');\" title=\"BIG Naughty (서동현) - 페이지 이동\">BIG Naughty (서동현)</a></span>, <span class=\"checkEllipsis\" style=\"display:none\"><a href=\"javascript:melon.link.goArtistDetail('100260');\" title=\"Coldplay - 페이지 이동\">Coldplay</a>, <a href=\"javascript:melon.link.goArtistDetail('672375');\" title=\"방탄소년단 - 페이지 이동\">방탄소년단</a></span>, <span class=\"checkEllipsis\" style=\"display:none\"><a href=\"javascript:melon.link.goArtistDetail('2939212');\" title=\"MSG워너비(M.O.M) - 페이지 이동\">MSG워너비(M.O.M)</a></span>, <span class=\"checkEllipsis\" style=\"display:none\"><a href=\"javascript:melon.link.goArtistDetail('752425');\" title=\"폴킴 - 페이지 이동\">폴킴</a></span>, <span class=\"checkEllipsis\" style=\"display:none\"><a href=\"javascript:melon.link.goArtistDetail('725985');\" title=\"지민 - 페이지 이동\">지민</a>, <a href=\"javascript:melon.link.goArtistDetail('875152');\" title=\"하성운 - 페이지 이동\">하성운</a></span>, <span class=\"checkEllipsis\" style=\"display:none\"><a href=\"javascript:melon.link.goArtistDetail('994005');\" title=\"경서 - 페이지 이동\">경서</a></span>, <span class=\"checkEllipsis\" style=\"display:none\"><a href=\"javascript:melon.link.goArtistDetail('261143');\" title=\"아이유 - 페이지 이동\">아이유</a></span>, <span class=\"checkEllipsis\" style=\"display:none\"><a href=\"javascript:melon.link.goArtistDetail('100094');\" title=\"자우림 - 페이지 이동\">자우림</a></span>, <span class=\"checkEllipsis\" style=\"display:none\"><a href=\"javascript:melon.link.goArtistDetail('2138620');\" title=\"이무진 - 페이지 이동\">이무진</a></span>, <span class=\"checkEllipsis\" style=\"display:none\"><a href=\"javascript:melon.link.goArtistDetail('420621');\" title=\"Justin Bieber - 페이지 이동\">Justin Bieber</a></span>, <span class=\"checkEllipsis\" style=\"display:none\"><a href=\"javascript:melon.link.goArtistDetail('261143');\" title=\"아이유 - 페이지 이동\">아이유</a></span>, <span class=\"checkEllipsis\" style=\"display:none\"><a href=\"javascript:melon.link.goArtistDetail('2899290');\" title=\"STAYC(스테이씨) - 페이지 이동\">STAYC(스테이씨)</a></span>, <span class=\"checkEllipsis\" style=\"display:none\"><a href=\"javascript:melon.link.goArtistDetail('2893700');\" title=\"탑현 - 페이지 이동\">탑현</a></span>, <span class=\"checkEllipsis\" style=\"display:none\"><a href=\"javascript:melon.link.goArtistDetail('2899555');\" title=\"aespa - 페이지 이동\">aespa</a></span>, <span class=\"checkEllipsis\" style=\"display:none\"><a href=\"javascript:melon.link.goArtistDetail('672375');\" title=\"방탄소년단 - 페이지 이동\">방탄소년단</a></span>, <span class=\"checkEllipsis\" style=\"display:none\"><a href=\"javascript:melon.link.goArtistDetail('531700');\" title=\"브레이브걸스 - 페이지 이동\">브레이브걸스</a></span>, <span class=\"checkEllipsis\" style=\"display:none\"><a href=\"javascript:melon.link.goArtistDetail('839732');\" title=\"멜로망스 - 페이지 이동\">멜로망스</a></span>, <span class=\"checkEllipsis\" style=\"display:none\"><a href=\"javascript:melon.link.goArtistDetail('549800');\" title=\"Ed Sheeran - 페이지 이동\">Ed Sheeran</a></span>, <span class=\"checkEllipsis\" style=\"display:none\"><a href=\"javascript:melon.link.goArtistDetail('261143');\" title=\"아이유 - 페이지 이동\">아이유</a></span>, <span class=\"checkEllipsis\" style=\"display:none\"><a href=\"javascript:melon.link.goArtistDetail('2754623');\" title=\"호미들 - 페이지 이동\">호미들</a></span>, <span class=\"checkEllipsis\" style=\"display:none\"><a href=\"javascript:melon.link.goArtistDetail('712452');\" title=\"AKMU (악뮤) - 페이지 이동\">AKMU (악뮤)</a></span>, <span class=\"checkEllipsis\" style=\"display:none\"><a href=\"javascript:melon.link.goArtistDetail('2758756');\" title=\"BE'O (비오) - 페이지 이동\">BE'O (비오)</a></span>, <span class=\"checkEllipsis\" style=\"display:none\"><a href=\"javascript:melon.link.goArtistDetail('2758756');\" title=\"BE'O (비오) - 페이지 이동\">BE'O (비오)</a></span>, <span class=\"checkEllipsis\" style=\"display:none\"><a href=\"javascript:melon.link.goArtistDetail('108794');\" title=\"V.O.S - 페이지 이동\">V.O.S</a></span>, <span class=\"checkEllipsis\" style=\"display:none\"><a href=\"javascript:melon.link.goArtistDetail('683631');\" title=\"주호 - 페이지 이동\">주호</a></span>, <span class=\"checkEllipsis\" style=\"display:none\"><a href=\"javascript:melon.link.goArtistDetail('672375');\" title=\"방탄소년단 - 페이지 이동\">방탄소년단</a></span>, <span class=\"checkEllipsis\" style=\"display:none\"><a href=\"javascript:melon.link.goArtistDetail('566431');\" title=\"마크툽 (MAKTUB) - 페이지 이동\">마크툽 (MAKTUB)</a></span>, <span class=\"checkEllipsis\" style=\"display:none\"><a href=\"javascript:melon.link.goArtistDetail('751611');\" title=\"헤이즈 (Heize) - 페이지 이동\">헤이즈 (Heize)</a></span>, <span class=\"checkEllipsis\" style=\"display:none\"><a href=\"javascript:melon.link.goArtistDetail('857994');\" title=\"오마이걸 (OH MY GIRL) - 페이지 이동\">오마이걸 (OH MY GIRL)</a></span>, <span class=\"checkEllipsis\" style=\"display:none\"><a href=\"javascript:melon.link.goArtistDetail('22938');\" title=\"선미 - 페이지 이동\">선미</a></span>, <span class=\"checkEllipsis\" style=\"display:none\"><a href=\"javascript:melon.link.goArtistDetail('672375');\" title=\"방탄소년단 - 페이지 이동\">방탄소년단</a></span>, <span class=\"checkEllipsis\" style=\"display:none\"><a href=\"javascript:melon.link.goArtistDetail('792022');\" title=\"볼빨간사춘기 - 페이지 이동\">볼빨간사춘기</a></span>, <span class=\"checkEllipsis\" style=\"display:none\"><a href=\"javascript:melon.link.goArtistDetail('1066419');\" title=\"NCT DREAM - 페이지 이동\">NCT DREAM</a></span>, <span class=\"checkEllipsis\" style=\"display:none\"><a href=\"javascript:melon.link.goArtistDetail('1024489');\" title=\"#안녕 - 페이지 이동\">#안녕</a></span>, <span class=\"checkEllipsis\" style=\"display:none\"><a href=\"javascript:melon.link.goArtistDetail('861436');\" title=\"세븐틴 - 페이지 이동\">세븐틴</a></span>, <span class=\"checkEllipsis\" style=\"display:none\"><a href=\"javascript:melon.link.goArtistDetail('792022');\" title=\"볼빨간사춘기 - 페이지 이동\">볼빨간사춘기</a></span>, <span class=\"checkEllipsis\" style=\"display:none\"><a href=\"javascript:melon.link.goArtistDetail('2138620');\" title=\"이무진 - 페이지 이동\">이무진</a></span>, <span class=\"checkEllipsis\" style=\"display:none\"><a href=\"javascript:melon.link.goArtistDetail('672375');\" title=\"방탄소년단 - 페이지 이동\">방탄소년단</a></span>, <span class=\"checkEllipsis\" style=\"display:none\"><a href=\"javascript:melon.link.goArtistDetail('3063272');\" title=\"GOT the beat - 페이지 이동\">GOT the beat</a></span>, <span class=\"checkEllipsis\" style=\"display:none\"><a href=\"javascript:melon.link.goArtistDetail('3865');\" title=\"싸이 (PSY) - 페이지 이동\">싸이 (PSY)</a></span>]\n"
          ]
        }
      ]
    },
    {
      "cell_type": "code",
      "source": [
        "for i in range(len(titles)):\n",
        "  title = titles[i].text.strip()\n",
        "  artist = artists[i].text.strip()\n",
        "  data = '{0:3d}위 {1} - {2}'.format(i+1, artist, title)\n",
        "  # data = (f'{i+1}위 {artist} - {title}')\n",
        "  print(data)"
      ],
      "metadata": {
        "colab": {
          "base_uri": "https://localhost:8080/"
        },
        "id": "iQclclRUFpHt",
        "outputId": "045ebbf5-ce57-4684-da05-afbfa2505282"
      },
      "execution_count": 16,
      "outputs": [
        {
          "output_type": "stream",
          "name": "stdout",
          "text": [
            "  1위 IVE (아이브) - LOVE DIVE\n",
            "  2위 (여자)아이들 - TOMBOY\n",
            "  3위 싸이 (PSY) - That That (prod. & feat. SUGA of BTS)\n",
            "  4위 멜로망스 - 사랑인가 봐\n",
            "  5위 BIG Naughty (서동현) - 정이라고 하자 (Feat. 10CM)\n",
            "  6위 경서 - 나의 X에게\n",
            "  7위 임영웅 - 우리들의 블루스\n",
            "  8위 임영웅 - 사랑은 늘 도망가\n",
            "  9위 BIGBANG (빅뱅) - 봄여름가을겨울 (Still Life)\n",
            " 10위 방탄소년단 - Yet To Come\n",
            " 11위 BE'O (비오) - LOVE me\n",
            " 12위 LE SSERAFIM (르세라핌) - FEARLESS\n",
            " 13위 김민석 (멜로망스) - 취중고백\n",
            " 14위 임영웅 - 다시 만날 수 있을까\n",
            " 15위 Red Velvet (레드벨벳) - Feel My Rhythm\n",
            " 16위 주호 - 내가 아니라도\n",
            " 17위 IVE (아이브) - ELEVEN\n",
            " 18위 이무진 - 신호등\n",
            " 19위 박재범 - GANADARA (Feat. 아이유)\n",
            " 20위 Charlie Puth, 정국, 방탄소년단 - Left and Right (Feat. Jung Kook of BTS)\n",
            " 21위 경서예지, 전건호 - 다정히 내 이름을 부르면\n",
            " 22위 임영웅 - 무지개\n",
            " 23위 임영웅 - 이제 나만 믿어요\n",
            " 24위 방탄소년단 - Dynamite\n",
            " 25위 주시크 (Joosiq) - 아무래도 난\n",
            " 26위 나연 (TWICE) - POP!\n",
            " 27위 태연 (TAEYEON) - INVU\n",
            " 28위 (여자)아이들 - MY BAG\n",
            " 29위 임영웅 - 아버지\n",
            " 30위 방탄소년단 - Butter\n",
            " 31위 The Kid LAROI, Justin Bieber - STAY\n",
            " 32위 Charlie Puth - That's Hilarious\n",
            " 33위 케이시 (Kassy) - 늦은 밤 헤어지긴 너무 아쉬워\n",
            " 34위 MSG워너비(M.O.M) - 듣고 싶을까\n",
            " 35위 임영웅 - 손이 참 곱던 그대\n",
            " 36위 임영웅 - A bientot\n",
            " 37위 방탄소년단 - Permission to Dance\n",
            " 38위 임영웅 - 사랑해 진짜\n",
            " 39위 태연 (TAEYEON) - Weekend\n",
            " 40위 임영웅 - 인생찬가\n",
            " 41위 aespa - Next Level\n",
            " 42위 제시 (Jessi) - ZOOM\n",
            " 43위 임재현 - 고백하는 취한밤에 (Prod. 2soo)\n",
            " 44위 임영웅 - 연애편지\n",
            " 45위 성시경 - 너의 모든 순간\n",
            " 46위 주시크 (Joosiq) - 너를 생각해\n",
            " 47위 YENA (최예나) - SMILEY (Feat. BIBI)\n",
            " 48위 임영웅 - 사랑역\n",
            " 49위 다비치 - 팡파레\n",
            " 50위 임영웅 - 보금자리\n",
            " 51위 sokodomo - 회전목마 (Feat. Zion.T, 원슈타인) (Prod. Slom)\n",
            " 52위 임영웅 - 사랑해요 그대를\n",
            " 53위 방탄소년단 - 봄날\n",
            " 54위 세븐틴 - HOT\n",
            " 55위 케이시 (Kassy) - 언제나 사랑해\n",
            " 56위 아이유 - 드라마\n",
            " 57위 아이유 - 내 손을 잡아\n",
            " 58위 BE'O (비오) - 리무진 (Feat. MINO) (Prod. GRAY)\n",
            " 59위 아이유 - strawberry moon\n",
            " 60위 디핵 (D-Hack), PATEKO (파테코) - OHAYO MY NIGHT\n",
            " 61위 BIG Naughty (서동현) - 낭만교향곡 (Feat. CHANGMO, 박재범)\n",
            " 62위 Coldplay, 방탄소년단 - My Universe\n",
            " 63위 MSG워너비(M.O.M) - 바라만 본다\n",
            " 64위 폴킴 - 모든 날, 모든 순간 (Every day, Every Moment)\n",
            " 65위 지민, 하성운 - With you\n",
            " 66위 경서 - 밤하늘의 별을(2020)\n",
            " 67위 아이유 - 라일락\n",
            " 68위 자우림 - 스물다섯, 스물하나\n",
            " 69위 이무진 - 눈이 오잖아(Feat.헤이즈)\n",
            " 70위 Justin Bieber - Off My Face\n",
            " 71위 아이유 - Celebrity\n",
            " 72위 STAYC(스테이씨) - RUN2U\n",
            " 73위 탑현 - 호랑수월가\n",
            " 74위 aespa - Savage\n",
            " 75위 방탄소년단 - Born Singer\n",
            " 76위 브레이브걸스 - 롤린 (Rollin')\n",
            " 77위 멜로망스 - 고백\n",
            " 78위 Ed Sheeran - Bad Habits\n",
            " 79위 아이유 - Blueming\n",
            " 80위 호미들 - 사이렌 Remix (Feat. UNEDUCATED KID, Paul Blanco)\n",
            " 81위 AKMU (악뮤) - 어떻게 이별까지 사랑하겠어, 널 사랑하는 거지\n",
            " 82위 BE'O (비오) - 문득\n",
            " 83위 BE'O (비오) - Counting Stars (Feat. Beenzino)\n",
            " 84위 V.O.S - 미친 것처럼\n",
            " 85위 주호 - 그 하루(feat.반하나)\n",
            " 86위 방탄소년단 - 작은 것들을 위한 시 (Boy With Luv) (Feat. Halsey)\n",
            " 87위 마크툽 (MAKTUB) - 찰나가 영원이 될 때 (The Eternal Moment)\n",
            " 88위 헤이즈 (Heize) - 헤픈 우연\n",
            " 89위 오마이걸 (OH MY GIRL) - Dun Dun Dance\n",
            " 90위 선미 - 열이올라요 (Heart Burn)\n",
            " 91위 방탄소년단 - 달려라 방탄\n",
            " 92위 볼빨간사춘기 - Love story\n",
            " 93위 NCT DREAM - Beatbox\n",
            " 94위 #안녕 - 해요 (2022)\n",
            " 95위 세븐틴 - Darl+ing\n",
            " 96위 볼빨간사춘기 - Seoul\n",
            " 97위 이무진 - 참고사항\n",
            " 98위 방탄소년단 - For Youth\n",
            " 99위 GOT the beat - Step Back\n",
            "100위 싸이 (PSY) - Celeb\n"
          ]
        }
      ]
    },
    {
      "cell_type": "markdown",
      "source": [
        "**2-4. 지니 차트 200**"
      ],
      "metadata": {
        "id": "eG69JaZcGBA-"
      }
    },
    {
      "cell_type": "code",
      "source": [
        "url = 'https://www.genie.co.kr/chart/top200?ditc=D&ymd=20220627&hh=21&rtm=Y&pg='\n",
        "for i in range(1,5):\n",
        "  site = '{}{}'.format(url, i)\n",
        "  print(site)"
      ],
      "metadata": {
        "colab": {
          "base_uri": "https://localhost:8080/"
        },
        "id": "0CZLL0R5JmKR",
        "outputId": "0f987994-d69e-4b2f-9881-ed079e28ddd6"
      },
      "execution_count": 17,
      "outputs": [
        {
          "output_type": "stream",
          "name": "stdout",
          "text": [
            "https://www.genie.co.kr/chart/top200?ditc=D&ymd=20220627&hh=21&rtm=Y&pg=1\n",
            "https://www.genie.co.kr/chart/top200?ditc=D&ymd=20220627&hh=21&rtm=Y&pg=2\n",
            "https://www.genie.co.kr/chart/top200?ditc=D&ymd=20220627&hh=21&rtm=Y&pg=3\n",
            "https://www.genie.co.kr/chart/top200?ditc=D&ymd=20220627&hh=21&rtm=Y&pg=4\n"
          ]
        }
      ]
    },
    {
      "cell_type": "code",
      "source": [
        "import time\n",
        "genie = []\n",
        "\n",
        "# User-Agent: Mozilla/5.0 (Windows NT 10.0; Win64; x64) AppleWebKit/537.36 (KHTML, like Gecko) Chrome/103.0.0.0 Safari/537.36\n",
        "header = {'User-Agent':'Mozilla/5.0 (Windows NT 10.0; Win64; x64)'}\n",
        "url = 'https://www.genie.co.kr/chart/top200?ditc=D&ymd=20220627&hh=21&rtm=Y&pg='\n",
        "for i in range(1,5):\n",
        "  site = '{}{}'.format(url, i)\n",
        "  request = requests.get(site, headers=header)\n",
        "  time.sleep(1)\n",
        "  soup = BeautifulSoup(request.text)\n",
        "  \n",
        "  titles = soup.findAll('a', {'class':'title ellipsis'})\n",
        "  # print(titles)\n",
        "  artists = soup.findAll('a',{'class':'artist ellipsis'})\n",
        "  # print(artists)\n",
        "\n",
        "  for i in range(50):\n",
        "    if titles[i].text.strip().split('\\n')[0] == '19금':\n",
        "      title = titles[i].text.strip().split('\\n')[-1].replace(' ', '')\n",
        "    else:\n",
        "      title = titles[i].text.strip()\n",
        "\n",
        "    artist = artists[i].text.strip().split('\\n')[0]\n",
        "    genie.append((title, artist))\n",
        "  \n",
        "print(genie)\n",
        " "
      ],
      "metadata": {
        "colab": {
          "base_uri": "https://localhost:8080/"
        },
        "id": "3SM4l7OrKCHb",
        "outputId": "f71bbd5d-f413-49b5-ccbc-9c561df1137a"
      },
      "execution_count": 36,
      "outputs": [
        {
          "output_type": "stream",
          "name": "stdout",
          "text": [
            "[('LOVE DIVE', 'IVE (아이브)'), ('TOMBOY', '(여자)아이들'), ('That That (Prod. & Feat. SUGA of BTS)', '싸이 (Psy)'), ('사랑인가 봐', '멜로망스 (MeloMance)'), ('정이라고 하자 (Feat. 10CM)', 'BIG Naughty (서동현)'), ('나의 X에게', 'IVE (아이브)'), ('봄여름가을겨울 (Still Life)', '(여자)아이들'), ('LOVE me', '싸이 (Psy)'), ('사랑은 늘 도망가', '멜로망스 (MeloMance)'), ('우리들의 블루스', 'BIG Naughty (서동현)'), ('Yet To Come', '경서'), ('취중고백', 'BIGBANG (빅뱅)'), ('Feel My Rhythm', \"BE'O (비오)\"), ('FEARLESS', '임영웅'), ('신호등', '임영웅'), ('다정히 내 이름을 부르면', '방탄소년단'), ('내가 아니라도', '김민석 (멜로망스)'), ('MY BAG', 'Red Velvet (레드벨벳)'), ('ELEVEN', 'LE SSERAFIM (르세라핌)'), ('다시 만날 수 있을까', '이무진'), (\"That's Hilarious\", '경서예지 & 전건호'), ('팡파레', '주호'), ('GANADARA (Feat. 아이유)', '(여자)아이들'), ('POP!', 'IVE (아이브)'), ('Stay', '임영웅'), ('이제 나만 믿어요', 'Charlie Puth'), ('듣고 싶을까', '다비치'), ('ZOOM', '박재범'), ('INVU', '나연 (TWICE)'), ('무지개', 'The Kid LAROI & Justin Bieber'), ('아무래도 난', '임영웅'), ('Left and Right (Feat. Jung Kook of BTS)', 'MSG워너비 (M.O.M)'), ('열이올라요 (Heart Burn)', '제시'), ('아버지', '태연 (TAEYEON)'), ('Dynamite', '임영웅'), ('바라만 본다', '주시크 (Joosiq)'), ('늦은 밤 헤어지긴 너무 아쉬워', 'Charlie Puth & 정국 & 방탄소년단'), ('너의 모든 순간', '선미'), ('A bientot', '임영웅'), ('회전목마 (Feat. Zion.T & 원슈타인) (Prod. by Slom)', '방탄소년단'), ('Next Level', 'MSG워너비 (M.O.M)'), ('너를 생각해', '케이시 (Kassy)'), ('strawberry moon', '성시경'), ('손이 참 곱던 그대', '임영웅'), ('사랑해 진짜', 'sokodomo'), ('Butter', 'aespa'), ('해요 (2022)', '주시크 (Joosiq)'), ('abcdefu', '아이유 (IU)'), ('리무진 (Feat. MINO) (Prod. by GRAY)', '임영웅'), ('Bad Habits', '임영웅'), ('연애편지', 'IVE (아이브)'), ('OHAYO MY NIGHT', '(여자)아이들'), ('고백하는 취한밤에 (Prod. by 2soo)', '싸이 (Psy)'), ('사랑역', '멜로망스 (MeloMance)'), (\"Stronger (What Doesn't Kill You)\", 'BIG Naughty (서동현)'), ('Weekend', '임영웅'), ('보금자리', '디핵 (D-Hack) & PATEKO'), ('사랑해요 그대를', '임재현'), ('Every Second', '임영웅'), ('Permission to Dance', 'Kelly Clarkson'), ('My Universe', '태연 (TAEYEON)'), ('인생찬가', '임영웅'), ('Celebrity', '임영웅'), ('스물다섯, 스물하나', 'Mina Okabe'), ('Celeb', '방탄소년단'), ('모든 날, 모든 순간 (Every day, Every Moment)', 'Coldplay & 방탄소년단'), ('호랑수월가', '임영웅'), ('언제나 사랑해', '아이유 (IU)'), ('내 손을 잡아', '자우림'), ('문득', '싸이 (Psy)'), ('고백', '폴킴'), ('헤픈 우연', '탑현'), ('2002', '케이시 (Kassy)'), ('라일락', '아이유 (IU)'), ('참고사항', \"BE'O (비오)\"), ('그 하루 (Feat. 반하나)', '멜로망스 (MeloMance)'), ('밤하늘의 별을 (2020)', '헤이즈 (Heize)'), ('Loving You Girl (Feat. Hkeem)', 'Anne-Marie'), ('Rainy day (Feat. ASH ISLAND & Skinny Brown)', '아이유 (IU)'), ('작은 것들을 위한 시 (Boy With Luv) (Feat. Halsey)', '이무진'), ('Tiny Riot', '주호'), ('Counting Stars (Feat. Beenzino)', '경서'), ('에잇 (Prod. & Feat. SUGA of BTS)', 'Peder Elias'), ('HOT', 'PATEKO (파테코)'), ('찰나가 영원이 될 때 (The Eternal Moment)', '방탄소년단'), ('At My Worst', 'Sam Ryder'), ('Dun Dun Dance', \"BE'O (비오)\"), ('흔들리는 꽃들 속에서 네 샴푸향이 느껴진거야', '아이유 (IU)'), ('SMILEY (Feat. BIBI)', '세븐틴 (SEVENTEEN)'), ('어제처럼', '마크툽 (Maktub)'), ('드라마', 'Pink Sweat$'), ('비와 당신', '오마이걸 (OH MY GIRL)'), ('Blueming', '장범준'), ('오늘도 빛나는 너에게 (To You My Light) (Feat.이라온)', 'YENA (최예나)'), ('감동이야 (Feat. 성시경)', '폴킴'), ('Off My Face', '아이유 (IU)'), ('미친 것처럼', '이무진'), ('오래된 노래', '아이유 (IU)'), ('낙하 (With 아이유)', '마크툽 (Maktub)'), ('사이렌 Remix (Feat. UNEDUCATED KID & Paul Blanco)', '싸이 (Psy)'), ('서랍', 'IVE (아이브)'), ('봄날', '(여자)아이들'), ('여행', '싸이 (Psy)'), ('만남은 쉽고 이별은 어려워 (Feat. Leellamarz) (Prod. by TOIL)', '멜로망스 (MeloMance)'), ('비가 오는 날엔 (2021)', 'BIG Naughty (서동현)'), (\"롤린 (Rollin')\", '10CM'), ('With you', '방탄소년단'), ('눈이 오잖아 (Feat. 헤이즈)', '볼빨간사춘기'), ('Savage', '베이식 (Basick)'), ('아로하', '헤이즈 (Heize)'), ('어마어마해', '브레이브걸스 (Brave girls)'), ('봄 to 러브', '지민 & 하성운'), ('나는 트로트가 싫어요', '이무진'), ('비도 오고 그래서 (Feat. 신용재)', 'aespa'), ('추억은 만남보다 이별에 남아', '조정석'), ('어떻게 이별까지 사랑하겠어, 널 사랑하는 거지', 'WSG워너비'), ('12 : 45 (Stripped)', '10CM'), ('너의 번호를 누르고 (Prod. by 영화처럼)', '임창정'), ('주저하는 연인들을 위해', '헤이즈 (Heize)'), ('Bad', '정동하'), ('METEOR', 'AKMU (악뮤)'), ('Peaches(Feat.DanielCaesar&Giveon)', 'etham'), ('Love story', '#안녕'), ('Hey Mama (Feat. Nicki Minaj & Bebe Rexha & Afrojack)', '잔나비'), ('낭만교향곡 (Feat. CHANGMO & 박재범)', 'Christopher'), ('Seoul', '창모 (CHANGMO)'), ('밝게 빛나는 별이 되어 비춰줄게', 'Justin Bieber'), ('첫눈처럼 너에게 가겠다', '볼빨간사춘기'), ('YOU AND I', 'David Guetta'), ('어떻게 지내 (Prod. by VAN.C)', 'BIG Naughty (서동현)'), ('Stay This Way', '볼빨간사춘기'), ('Because Of You', '송이한'), ('Way Back Home', '에일리 (Ailee)'), ('RUN2U', 'WSG워너비 조별경연 (대청봉)'), ('우산 (Feat. 윤하)', '오반'), ('마지막 너의 인사', '프로미스나인'), ('사랑의 인사', 'Ne-Yo'), ('Step Back', '숀 (SHAUN)'), ('Memories', 'STAYC (스테이씨)'), ('Dance Monkey', '에픽하이 (EPIK HIGH)'), ('엉덩이가 큰 그녀 (Feat. The Quiett)', '헤이즈 (Heize)'), ('Timeless', '씨야 (SeeYa)'), ('만개 (Prod. 신지후)', 'GOT the beat'), ('Happy Song', 'Maroon 5'), ('달팽이', 'Tones And I'), ('Savage Love (Laxed - Siren Beat) (BTS Remix)', '릴러말즈 (Leellamarz) & TOIL'), ('Lovesick Girls', 'SG워너비'), ('Born Singer', '김호중'), ('선물', '멜로망스 (MeloMance)'), ('parachute', '김재환'), ('늦은 밤 너의 집 앞 골목길에서', 'IVE (아이브)'), ('그게 더 편할 것 같아 (N번째 연애 X 멜로망스)', '(여자)아이들'), ('비 오는 날 듣기 좋은 노래 (Feat. Colde)', '싸이 (Psy)'), ('나보다 더 사랑해요', '멜로망스 (MeloMance)'), ('살짝 설렜어 (Nonstop)', 'BIG Naughty (서동현)'), ('Shape Of You', '노을'), ('취기를 빌려 (취향저격 그녀 X 산들)', '멜로망스 (MeloMance)'), ('Darl＋ing', '에픽하이 (EPIK HIGH)'), ('우리가 헤어져야 했던 이유', '김호중'), ('멜로디', '오마이걸 (OH MY GIRL)'), ('그날에 나는 맘이 편했을까', 'Ed Sheeran'), ('밤편지', '산들'), ('시작', '세븐틴 (SEVENTEEN)'), ('그대라는 시', '비비 (BIBI)'), ('겨울잠', 'ASH ISLAND'), ('안녕', '이예준'), ('상상더하기', '아이유 (IU)'), ('Light Switch', '가호 (Gaho)'), ('달려라 방탄', '태연 (TAEYEON)'), ('있잖아', '아이유 (IU)'), ('사고쳤어요', '폴킴'), ('마음을 드려요', '라붐 (LABOUM)'), ('어푸 (Ah puh)', 'Charlie Puth'), ('Paris In The Rain', '방탄소년단'), ('살았소', '폴킴'), ('우산이 없어요', '다비치'), ('Beatbox', '아이유 (IU)'), ('너의 발걸음에 빛을 비춰줄게 (Prod. by 조영수)', '아이유 (IU)'), ('사랑하긴 했었나요 스쳐가는 인연이었나요 짧지않은 우리 함께했던 시간들이 자꾸 내 마음을 가둬두네', 'Lauv'), ('Dreams Come True', '김호중'), ('All I Wanna Do (K) (Feat. Hoody & Loco)', '김호중'), ('희재', 'NCT DREAM'), ('Alone (Feat. 이하이)', '케이시 (Kassy)'), ('말리지 마', '잔나비'), ('For Youth', 'aespa'), ('빛이 나는 사람', '박재범'), ('Bye bye my blue', '성시경'), (\"Life's Too Short (English Ver.)\", '쿠기 (Coogie)'), ('Kiss Me More (Feat. SZA)', '(여자)아이들'), ('그때가 좋았어', '방탄소년단'), ('쉬어 (Feat. MINO) (Prod. by GRAY)', '김호중'), ('Ashes', '백예린 (Yerin Baek)'), ('존재만으로', 'aespa'), ('흰눈', 'Doja Cat'), ('퇴근길', '케이시 (Kassy)'), ('러브 쉿!', \"아넌딜라이트 (Anandelight) & Unofficialboyy & BE'O (비오) & 지구인 & Mudd The Student\"), ('어땠을까 (Feat. 박정현)', 'Stellar'), ('너에게 못했던 내 마지막 말은', '원슈타인'), ('추적이는 여름 비가 되어', '먼데이 키즈 (Monday Kiz)'), ('Wake Up (Prod. by 코드 쿤스트)', '김호중')]\n"
          ]
        }
      ]
    },
    {
      "cell_type": "code",
      "source": [
        "for i in range(200):\n",
        "  # print('{0:3d}위 {1} - {2}'.format(i+1, genie[i][1], genie[i][0]))\n",
        "  print(f'{i+1}위 {genie[i][1]} - {genie[i][0]}')"
      ],
      "metadata": {
        "id": "7OH9nZ_KAF7e",
        "outputId": "a23cd968-84a3-4052-bd92-c6615e637160",
        "colab": {
          "base_uri": "https://localhost:8080/"
        }
      },
      "execution_count": 37,
      "outputs": [
        {
          "output_type": "stream",
          "name": "stdout",
          "text": [
            "1위 IVE (아이브) - LOVE DIVE\n",
            "2위 (여자)아이들 - TOMBOY\n",
            "3위 싸이 (Psy) - That That (Prod. & Feat. SUGA of BTS)\n",
            "4위 멜로망스 (MeloMance) - 사랑인가 봐\n",
            "5위 BIG Naughty (서동현) - 정이라고 하자 (Feat. 10CM)\n",
            "6위 IVE (아이브) - 나의 X에게\n",
            "7위 (여자)아이들 - 봄여름가을겨울 (Still Life)\n",
            "8위 싸이 (Psy) - LOVE me\n",
            "9위 멜로망스 (MeloMance) - 사랑은 늘 도망가\n",
            "10위 BIG Naughty (서동현) - 우리들의 블루스\n",
            "11위 경서 - Yet To Come\n",
            "12위 BIGBANG (빅뱅) - 취중고백\n",
            "13위 BE'O (비오) - Feel My Rhythm\n",
            "14위 임영웅 - FEARLESS\n",
            "15위 임영웅 - 신호등\n",
            "16위 방탄소년단 - 다정히 내 이름을 부르면\n",
            "17위 김민석 (멜로망스) - 내가 아니라도\n",
            "18위 Red Velvet (레드벨벳) - MY BAG\n",
            "19위 LE SSERAFIM (르세라핌) - ELEVEN\n",
            "20위 이무진 - 다시 만날 수 있을까\n",
            "21위 경서예지 & 전건호 - That's Hilarious\n",
            "22위 주호 - 팡파레\n",
            "23위 (여자)아이들 - GANADARA (Feat. 아이유)\n",
            "24위 IVE (아이브) - POP!\n",
            "25위 임영웅 - Stay\n",
            "26위 Charlie Puth - 이제 나만 믿어요\n",
            "27위 다비치 - 듣고 싶을까\n",
            "28위 박재범 - ZOOM\n",
            "29위 나연 (TWICE) - INVU\n",
            "30위 The Kid LAROI & Justin Bieber - 무지개\n",
            "31위 임영웅 - 아무래도 난\n",
            "32위 MSG워너비 (M.O.M) - Left and Right (Feat. Jung Kook of BTS)\n",
            "33위 제시 - 열이올라요 (Heart Burn)\n",
            "34위 태연 (TAEYEON) - 아버지\n",
            "35위 임영웅 - Dynamite\n",
            "36위 주시크 (Joosiq) - 바라만 본다\n",
            "37위 Charlie Puth & 정국 & 방탄소년단 - 늦은 밤 헤어지긴 너무 아쉬워\n",
            "38위 선미 - 너의 모든 순간\n",
            "39위 임영웅 - A bientot\n",
            "40위 방탄소년단 - 회전목마 (Feat. Zion.T & 원슈타인) (Prod. by Slom)\n",
            "41위 MSG워너비 (M.O.M) - Next Level\n",
            "42위 케이시 (Kassy) - 너를 생각해\n",
            "43위 성시경 - strawberry moon\n",
            "44위 임영웅 - 손이 참 곱던 그대\n",
            "45위 sokodomo - 사랑해 진짜\n",
            "46위 aespa - Butter\n",
            "47위 주시크 (Joosiq) - 해요 (2022)\n",
            "48위 아이유 (IU) - abcdefu\n",
            "49위 임영웅 - 리무진 (Feat. MINO) (Prod. by GRAY)\n",
            "50위 임영웅 - Bad Habits\n",
            "51위 IVE (아이브) - 연애편지\n",
            "52위 (여자)아이들 - OHAYO MY NIGHT\n",
            "53위 싸이 (Psy) - 고백하는 취한밤에 (Prod. by 2soo)\n",
            "54위 멜로망스 (MeloMance) - 사랑역\n",
            "55위 BIG Naughty (서동현) - Stronger (What Doesn't Kill You)\n",
            "56위 임영웅 - Weekend\n",
            "57위 디핵 (D-Hack) & PATEKO - 보금자리\n",
            "58위 임재현 - 사랑해요 그대를\n",
            "59위 임영웅 - Every Second\n",
            "60위 Kelly Clarkson - Permission to Dance\n",
            "61위 태연 (TAEYEON) - My Universe\n",
            "62위 임영웅 - 인생찬가\n",
            "63위 임영웅 - Celebrity\n",
            "64위 Mina Okabe - 스물다섯, 스물하나\n",
            "65위 방탄소년단 - Celeb\n",
            "66위 Coldplay & 방탄소년단 - 모든 날, 모든 순간 (Every day, Every Moment)\n",
            "67위 임영웅 - 호랑수월가\n",
            "68위 아이유 (IU) - 언제나 사랑해\n",
            "69위 자우림 - 내 손을 잡아\n",
            "70위 싸이 (Psy) - 문득\n",
            "71위 폴킴 - 고백\n",
            "72위 탑현 - 헤픈 우연\n",
            "73위 케이시 (Kassy) - 2002\n",
            "74위 아이유 (IU) - 라일락\n",
            "75위 BE'O (비오) - 참고사항\n",
            "76위 멜로망스 (MeloMance) - 그 하루 (Feat. 반하나)\n",
            "77위 헤이즈 (Heize) - 밤하늘의 별을 (2020)\n",
            "78위 Anne-Marie - Loving You Girl (Feat. Hkeem)\n",
            "79위 아이유 (IU) - Rainy day (Feat. ASH ISLAND & Skinny Brown)\n",
            "80위 이무진 - 작은 것들을 위한 시 (Boy With Luv) (Feat. Halsey)\n",
            "81위 주호 - Tiny Riot\n",
            "82위 경서 - Counting Stars (Feat. Beenzino)\n",
            "83위 Peder Elias - 에잇 (Prod. & Feat. SUGA of BTS)\n",
            "84위 PATEKO (파테코) - HOT\n",
            "85위 방탄소년단 - 찰나가 영원이 될 때 (The Eternal Moment)\n",
            "86위 Sam Ryder - At My Worst\n",
            "87위 BE'O (비오) - Dun Dun Dance\n",
            "88위 아이유 (IU) - 흔들리는 꽃들 속에서 네 샴푸향이 느껴진거야\n",
            "89위 세븐틴 (SEVENTEEN) - SMILEY (Feat. BIBI)\n",
            "90위 마크툽 (Maktub) - 어제처럼\n",
            "91위 Pink Sweat$ - 드라마\n",
            "92위 오마이걸 (OH MY GIRL) - 비와 당신\n",
            "93위 장범준 - Blueming\n",
            "94위 YENA (최예나) - 오늘도 빛나는 너에게 (To You My Light) (Feat.이라온)\n",
            "95위 폴킴 - 감동이야 (Feat. 성시경)\n",
            "96위 아이유 (IU) - Off My Face\n",
            "97위 이무진 - 미친 것처럼\n",
            "98위 아이유 (IU) - 오래된 노래\n",
            "99위 마크툽 (Maktub) - 낙하 (With 아이유)\n",
            "100위 싸이 (Psy) - 사이렌 Remix (Feat. UNEDUCATED KID & Paul Blanco)\n",
            "101위 IVE (아이브) - 서랍\n",
            "102위 (여자)아이들 - 봄날\n",
            "103위 싸이 (Psy) - 여행\n",
            "104위 멜로망스 (MeloMance) - 만남은 쉽고 이별은 어려워 (Feat. Leellamarz) (Prod. by TOIL)\n",
            "105위 BIG Naughty (서동현) - 비가 오는 날엔 (2021)\n",
            "106위 10CM - 롤린 (Rollin')\n",
            "107위 방탄소년단 - With you\n",
            "108위 볼빨간사춘기 - 눈이 오잖아 (Feat. 헤이즈)\n",
            "109위 베이식 (Basick) - Savage\n",
            "110위 헤이즈 (Heize) - 아로하\n",
            "111위 브레이브걸스 (Brave girls) - 어마어마해\n",
            "112위 지민 & 하성운 - 봄 to 러브\n",
            "113위 이무진 - 나는 트로트가 싫어요\n",
            "114위 aespa - 비도 오고 그래서 (Feat. 신용재)\n",
            "115위 조정석 - 추억은 만남보다 이별에 남아\n",
            "116위 WSG워너비 - 어떻게 이별까지 사랑하겠어, 널 사랑하는 거지\n",
            "117위 10CM - 12 : 45 (Stripped)\n",
            "118위 임창정 - 너의 번호를 누르고 (Prod. by 영화처럼)\n",
            "119위 헤이즈 (Heize) - 주저하는 연인들을 위해\n",
            "120위 정동하 - Bad\n",
            "121위 AKMU (악뮤) - METEOR\n",
            "122위 etham - Peaches(Feat.DanielCaesar&Giveon)\n",
            "123위 #안녕 - Love story\n",
            "124위 잔나비 - Hey Mama (Feat. Nicki Minaj & Bebe Rexha & Afrojack)\n",
            "125위 Christopher - 낭만교향곡 (Feat. CHANGMO & 박재범)\n",
            "126위 창모 (CHANGMO) - Seoul\n",
            "127위 Justin Bieber - 밝게 빛나는 별이 되어 비춰줄게\n",
            "128위 볼빨간사춘기 - 첫눈처럼 너에게 가겠다\n",
            "129위 David Guetta - YOU AND I\n",
            "130위 BIG Naughty (서동현) - 어떻게 지내 (Prod. by VAN.C)\n",
            "131위 볼빨간사춘기 - Stay This Way\n",
            "132위 송이한 - Because Of You\n",
            "133위 에일리 (Ailee) - Way Back Home\n",
            "134위 WSG워너비 조별경연 (대청봉) - RUN2U\n",
            "135위 오반 - 우산 (Feat. 윤하)\n",
            "136위 프로미스나인 - 마지막 너의 인사\n",
            "137위 Ne-Yo - 사랑의 인사\n",
            "138위 숀 (SHAUN) - Step Back\n",
            "139위 STAYC (스테이씨) - Memories\n",
            "140위 에픽하이 (EPIK HIGH) - Dance Monkey\n",
            "141위 헤이즈 (Heize) - 엉덩이가 큰 그녀 (Feat. The Quiett)\n",
            "142위 씨야 (SeeYa) - Timeless\n",
            "143위 GOT the beat - 만개 (Prod. 신지후)\n",
            "144위 Maroon 5 - Happy Song\n",
            "145위 Tones And I - 달팽이\n",
            "146위 릴러말즈 (Leellamarz) & TOIL - Savage Love (Laxed - Siren Beat) (BTS Remix)\n",
            "147위 SG워너비 - Lovesick Girls\n",
            "148위 김호중 - Born Singer\n",
            "149위 멜로망스 (MeloMance) - 선물\n",
            "150위 김재환 - parachute\n",
            "151위 IVE (아이브) - 늦은 밤 너의 집 앞 골목길에서\n",
            "152위 (여자)아이들 - 그게 더 편할 것 같아 (N번째 연애 X 멜로망스)\n",
            "153위 싸이 (Psy) - 비 오는 날 듣기 좋은 노래 (Feat. Colde)\n",
            "154위 멜로망스 (MeloMance) - 나보다 더 사랑해요\n",
            "155위 BIG Naughty (서동현) - 살짝 설렜어 (Nonstop)\n",
            "156위 노을 - Shape Of You\n",
            "157위 멜로망스 (MeloMance) - 취기를 빌려 (취향저격 그녀 X 산들)\n",
            "158위 에픽하이 (EPIK HIGH) - Darl＋ing\n",
            "159위 김호중 - 우리가 헤어져야 했던 이유\n",
            "160위 오마이걸 (OH MY GIRL) - 멜로디\n",
            "161위 Ed Sheeran - 그날에 나는 맘이 편했을까\n",
            "162위 산들 - 밤편지\n",
            "163위 세븐틴 (SEVENTEEN) - 시작\n",
            "164위 비비 (BIBI) - 그대라는 시\n",
            "165위 ASH ISLAND - 겨울잠\n",
            "166위 이예준 - 안녕\n",
            "167위 아이유 (IU) - 상상더하기\n",
            "168위 가호 (Gaho) - Light Switch\n",
            "169위 태연 (TAEYEON) - 달려라 방탄\n",
            "170위 아이유 (IU) - 있잖아\n",
            "171위 폴킴 - 사고쳤어요\n",
            "172위 라붐 (LABOUM) - 마음을 드려요\n",
            "173위 Charlie Puth - 어푸 (Ah puh)\n",
            "174위 방탄소년단 - Paris In The Rain\n",
            "175위 폴킴 - 살았소\n",
            "176위 다비치 - 우산이 없어요\n",
            "177위 아이유 (IU) - Beatbox\n",
            "178위 아이유 (IU) - 너의 발걸음에 빛을 비춰줄게 (Prod. by 조영수)\n",
            "179위 Lauv - 사랑하긴 했었나요 스쳐가는 인연이었나요 짧지않은 우리 함께했던 시간들이 자꾸 내 마음을 가둬두네\n",
            "180위 김호중 - Dreams Come True\n",
            "181위 김호중 - All I Wanna Do (K) (Feat. Hoody & Loco)\n",
            "182위 NCT DREAM - 희재\n",
            "183위 케이시 (Kassy) - Alone (Feat. 이하이)\n",
            "184위 잔나비 - 말리지 마\n",
            "185위 aespa - For Youth\n",
            "186위 박재범 - 빛이 나는 사람\n",
            "187위 성시경 - Bye bye my blue\n",
            "188위 쿠기 (Coogie) - Life's Too Short (English Ver.)\n",
            "189위 (여자)아이들 - Kiss Me More (Feat. SZA)\n",
            "190위 방탄소년단 - 그때가 좋았어\n",
            "191위 김호중 - 쉬어 (Feat. MINO) (Prod. by GRAY)\n",
            "192위 백예린 (Yerin Baek) - Ashes\n",
            "193위 aespa - 존재만으로\n",
            "194위 Doja Cat - 흰눈\n",
            "195위 케이시 (Kassy) - 퇴근길\n",
            "196위 아넌딜라이트 (Anandelight) & Unofficialboyy & BE'O (비오) & 지구인 & Mudd The Student - 러브 쉿!\n",
            "197위 Stellar - 어땠을까 (Feat. 박정현)\n",
            "198위 원슈타인 - 너에게 못했던 내 마지막 말은\n",
            "199위 먼데이 키즈 (Monday Kiz) - 추적이는 여름 비가 되어\n",
            "200위 김호중 - Wake Up (Prod. by 코드 쿤스트)\n"
          ]
        }
      ]
    },
    {
      "cell_type": "code",
      "source": [
        ""
      ],
      "metadata": {
        "id": "AON68iZAAccr"
      },
      "execution_count": null,
      "outputs": []
    }
  ]
}